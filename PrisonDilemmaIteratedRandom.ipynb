{
 "cells": [
  {
   "cell_type": "markdown",
   "metadata": {},
   "source": [
    "# Iterated Prisoner Dilemma Problem"
   ]
  },
  {
   "cell_type": "markdown",
   "metadata": {},
   "source": [
    "## Computer will roll a dice to decide how to make a move"
   ]
  },
  {
   "cell_type": "markdown",
   "metadata": {},
   "source": [
    "## Computer Plays without any intelligence"
   ]
  },
  {
   "cell_type": "markdown",
   "metadata": {},
   "source": [
    "1. Generate Random Numbers (I need more like a coin toss)\n",
    "2. 2 players -> Generate Player 1 -> Shadow Strategy for Player 2 -> Player 2 Move\n",
    "3. Assign scores to each game"
   ]
  },
  {
   "cell_type": "markdown",
   "metadata": {},
   "source": [
    "## Result - Against a random opponent persist and take your stance"
   ]
  },
  {
   "cell_type": "code",
   "execution_count": 38,
   "metadata": {},
   "outputs": [],
   "source": [
    "from mock import patch\n",
    "import enum\n",
    "import random\n",
    "import abc"
   ]
  },
  {
   "cell_type": "code",
   "execution_count": 170,
   "metadata": {},
   "outputs": [],
   "source": [
    "class Coin(enum.Flag):\n",
    "    HEAD=True  # Assume this is co-operate\n",
    "    TAIL=False # Assume this is defecting "
   ]
  },
  {
   "cell_type": "code",
   "execution_count": 7,
   "metadata": {},
   "outputs": [],
   "source": [
    "class MyDice(object):\n",
    "    @classmethod\n",
    "    def get_random(self):\n",
    "        return random.randint(0,1)\n",
    "    \n",
    "    @classmethod\n",
    "    def roll(self):\n",
    "        value = self.get_random()\n",
    "        return Coin.HEAD if value == 1 else Coin.TAIL"
   ]
  },
  {
   "cell_type": "code",
   "execution_count": 29,
   "metadata": {},
   "outputs": [],
   "source": [
    "class TargetPlayer(object):\n",
    "    def __init__(self, max_count):\n",
    "        self.max_count = max_count\n",
    "        self.dice = MyDice()\n",
    "    \n",
    "    def __iter__(self):\n",
    "        self.count = 0\n",
    "        return self\n",
    "    \n",
    "    def __next__(self):\n",
    "        if self.count >= self.max_count:\n",
    "            raise StopIteration\n",
    "        self.count += 1\n",
    "        return self.dice.roll()"
   ]
  },
  {
   "cell_type": "code",
   "execution_count": 49,
   "metadata": {},
   "outputs": [],
   "source": [
    "class Strategy(abc.ABC):\n",
    "    def __init__(self, initial, target_player_sim):\n",
    "        self.initial = initial\n",
    "        self.target_player_sim = target_player_sim\n",
    "    \n",
    "    @abc.abstractmethod\n",
    "    def strategy(self):\n",
    "        pass"
   ]
  },
  {
   "cell_type": "code",
   "execution_count": 116,
   "metadata": {},
   "outputs": [],
   "source": [
    "class TitForTat(Strategy):\n",
    "    def strategy(self):\n",
    "        res = []\n",
    "        # First move peace by me always\n",
    "        res.append(self.initial)\n",
    "        for prev_val in self.target_player_sim[:-1]: # Skip last he will play it any way\n",
    "            res.append(prev_val)\n",
    "            \n",
    "        return res"
   ]
  },
  {
   "cell_type": "code",
   "execution_count": 122,
   "metadata": {},
   "outputs": [],
   "source": [
    "class Punisher(Strategy):\n",
    "    def strategy(self):\n",
    "        res = []\n",
    "        # First move peace by me always\n",
    "        res.append(self.initial)\n",
    "        flag = False\n",
    "        for prev_val in self.target_player_sim[:-1]: # Skip last he will play it any way\n",
    "            if prev_val == Coin.TAIL:\n",
    "                flag = True\n",
    "            if flag:\n",
    "                res.append(Coin.TAIL)\n",
    "            else:\n",
    "                res.append(Coin.HEAD)\n",
    "            \n",
    "        return res"
   ]
  },
  {
   "cell_type": "code",
   "execution_count": 163,
   "metadata": {},
   "outputs": [],
   "source": [
    "DEFECT_WIN_SUM = 250\n",
    "DEFECT_LOSS_SUM = 100\n",
    "COOPERATE_WIN_SUM = 150\n",
    "COOPERATE_LOSS_SUM = -500\n",
    "\n",
    "def get_score_util(me, him):\n",
    "    if me and him:\n",
    "        return (COOPERATE_WIN_SUM, COOPERATE_WIN_SUM)\n",
    "    if not me and him:\n",
    "        return (DEFECT_WIN_SUM, COOPERATE_LOSS_SUM)\n",
    "    if me and not him:\n",
    "        return (COOPERATE_LOSS_SUM, DEFECT_WIN_SUM)\n",
    "    if not me and not him:\n",
    "        return (DEFECT_LOSS_SUM, DEFECT_LOSS_SUM)\n",
    "    raise ValueError('Check if all possible combinations are not covered')"
   ]
  },
  {
   "cell_type": "code",
   "execution_count": 164,
   "metadata": {},
   "outputs": [
    {
     "name": "stderr",
     "output_type": "stream",
     "text": [
      "..........\n",
      "----------------------------------------------------------------------\n",
      "Ran 10 tests in 1.049s\n",
      "\n",
      "OK\n"
     ]
    }
   ],
   "source": [
    "import unittest\n",
    "\n",
    "class TestMyDice(unittest.TestCase):\n",
    "    \"\"\"Funny test, just to tdd, no significance\"\"\"\n",
    "    def test_roll(self):\n",
    "        heads = 0\n",
    "        tails = 0\n",
    "        count = 500000\n",
    "        dice = MyDice()\n",
    "        for i in range(count):\n",
    "            value = dice.roll()\n",
    "            if value == Coin.HEAD:\n",
    "                heads += 1\n",
    "            else:\n",
    "                tails += 1\n",
    "        self.assertEqual(count, heads + tails)\n",
    "                \n",
    "    def test_get_random(self):\n",
    "        dice = MyDice()\n",
    "        value = dice.get_random()\n",
    "        self.assertIn(value, [0,1])\n",
    "        value = dice.roll()\n",
    "        self.assertIn(value, Coin)\n",
    "    \n",
    "    @patch.object(MyDice, 'get_random')\n",
    "    def test_integration(self, mock_get_random):  \n",
    "        mock_get_random.return_value=1\n",
    "        dice =  MyDice()\n",
    "        value = dice.roll()\n",
    "        self.assertEqual(value, Coin.HEAD)\n",
    "        mock_get_random.return_value=0\n",
    "        value = dice.roll()\n",
    "        self.assertEqual(value, Coin.TAIL)\n",
    "\n",
    "class TestCoin(unittest.TestCase):\n",
    "    \"\"\"Testcase for the enum Coin\"\"\"\n",
    "    def test_truth(self):\n",
    "        self.assertEqual(Coin.HEAD.value, True)\n",
    "        self.assertEqual(Coin.TAIL.value, False)\n",
    "\n",
    "class TestTargetPlayer(unittest.TestCase):\n",
    "    \"\"\"Testcase for TargetPlater class\"\"\"\n",
    "    def test_play(self):\n",
    "        count = 10\n",
    "        for value in TargetPlayer(count):\n",
    "            self.assertIn(value, Coin)\n",
    "    \n",
    "    def test_max_count(self):\n",
    "        count = 0\n",
    "        target_count = 15\n",
    "        for x in TargetPlayer(target_count):\n",
    "            count += 1\n",
    "        self.assertEqual(count, target_count)\n",
    "\n",
    "class TestTitForTat(unittest.TestCase):\n",
    "    \"\"\"Test case for TitNTat Strategy\"\"\"\n",
    "    def test_copy_cat(self):\n",
    "        target_player_sims = [Coin.HEAD, Coin.TAIL, Coin.HEAD, Coin.HEAD]\n",
    "        strat = CopyCat(initial=Coin.HEAD, target_player_sim=target_player_sims)\n",
    "        perf = strat.strategy()\n",
    "        self.assertEqual(perf, [Coin.HEAD, Coin.HEAD, Coin.TAIL, Coin.HEAD])\n",
    "\n",
    "class TestPunisher(unittest.TestCase):\n",
    "    \"\"\"Test case for Punisher Strategy\"\"\"\n",
    "    def test_copy_cat(self):\n",
    "        target_player_sims = [Coin.HEAD, Coin.TAIL, Coin.HEAD, Coin.HEAD]\n",
    "        strat = Punisher(initial=Coin.HEAD, target_player_sim=target_player_sims)\n",
    "        perf = strat.strategy()\n",
    "        self.assertEqual(perf, [Coin.HEAD, Coin.HEAD, Coin.TAIL, Coin.TAIL])\n",
    "        \n",
    "class TestUtil(unittest.TestCase):\n",
    "    \"\"\"Tests for utilities\"\"\"\n",
    "    def test_get_score(self):\n",
    "        self.assertEqual(get_score_util(Coin.HEAD, Coin.HEAD), (COOPERATE_WIN_SUM, COOPERATE_WIN_SUM))\n",
    "        self.assertEqual(get_score_util(Coin.HEAD, Coin.TAIL), (COOPERATE_LOSS_SUM, DEFECT_WIN_SUM))\n",
    "        self.assertEqual(get_score_util(Coin.TAIL, Coin.HEAD), (DEFECT_WIN_SUM, COOPERATE_LOSS_SUM))\n",
    "        self.assertEqual(get_score_util(Coin.TAIL, Coin.TAIL), (DEFECT_LOSS_SUM, DEFECT_LOSS_SUM)) # Both rat\n",
    "        \n",
    "if __name__ == '__main__':\n",
    "    unittest.main(argv=['first-arg-is-ignored'], exit=False)"
   ]
  },
  {
   "cell_type": "code",
   "execution_count": 165,
   "metadata": {},
   "outputs": [],
   "source": [
    "import numpy as np"
   ]
  },
  {
   "cell_type": "code",
   "execution_count": 166,
   "metadata": {},
   "outputs": [],
   "source": [
    "def get_result(Strat, count, init=Coin.HEAD):\n",
    "    target_sims = [x for x in TargetPlayer(count)]\n",
    "    scores = [get_score_util(x,y) for x,y in zip(Strat(init, target_sims).strategy(), target_sims)]\n",
    "    score_list = list(zip(*scores))\n",
    "    me, him = [sum(x) for x in score_list]\n",
    "    return (me, him)"
   ]
  },
  {
   "cell_type": "code",
   "execution_count": 167,
   "metadata": {},
   "outputs": [],
   "source": [
    "RANGE = 1000\n",
    "GAME_ROUNDS = 500"
   ]
  },
  {
   "cell_type": "code",
   "execution_count": 174,
   "metadata": {},
   "outputs": [
    {
     "name": "stdout",
     "output_type": "stream",
     "text": [
      "me computer\n",
      "-119.9 244.6\n"
     ]
    }
   ],
   "source": [
    "# Repeat and Average 500 times\n",
    "res_tit_for_tat = []\n",
    "for x in range(RANGE):\n",
    "    res_tit_for_tat.append(get_result(TitForTat, GAME_ROUNDS))\n",
    "lst = list(zip(*res_tit_for_tat))\n",
    "print('me', 'computer')\n",
    "print(np.mean(lst[0]), np.mean(lst[1]))"
   ]
  },
  {
   "cell_type": "markdown",
   "metadata": {},
   "source": [
    "# Analysis - Against an opponent who is random both will be making loss"
   ]
  },
  {
   "cell_type": "code",
   "execution_count": 175,
   "metadata": {},
   "outputs": [
    {
     "name": "stdout",
     "output_type": "stream",
     "text": [
      "me computer\n",
      "86822.05 -99296.45\n"
     ]
    }
   ],
   "source": [
    "# Repeat and Average 500 times\n",
    "res_punisher = []\n",
    "for x in range(1000):\n",
    "    res_punisher.append(get_result(Punisher, 500))\n",
    "lst = list(zip(*res_punisher))\n",
    "print('me', 'computer')\n",
    "print(np.mean(lst[0]), np.mean(lst[1]))"
   ]
  },
  {
   "cell_type": "markdown",
   "metadata": {},
   "source": [
    "# Analysis - Try to squash a random opponent"
   ]
  }
 ],
 "metadata": {
  "kernelspec": {
   "display_name": "Python 3",
   "language": "python",
   "name": "python3"
  },
  "language_info": {
   "codemirror_mode": {
    "name": "ipython",
    "version": 3
   },
   "file_extension": ".py",
   "mimetype": "text/x-python",
   "name": "python",
   "nbconvert_exporter": "python",
   "pygments_lexer": "ipython3",
   "version": "3.7.5"
  }
 },
 "nbformat": 4,
 "nbformat_minor": 4
}
